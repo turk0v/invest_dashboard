{
 "cells": [
  {
   "cell_type": "code",
   "execution_count": 1,
   "metadata": {},
   "outputs": [],
   "source": [
    "import pandas as pd\n",
    "import plotly.graph_objects as go\n",
    "from ipywidgets import widgets"
   ]
  },
  {
   "cell_type": "code",
   "execution_count": 2,
   "metadata": {},
   "outputs": [
    {
     "data": {
      "application/vnd.jupyter.widget-view+json": {
       "model_id": "1aa6678739c24a68814461584060aae3",
       "version_major": 2,
       "version_minor": 0
      },
      "text/plain": [
       "VBox(children=(HBox(children=(Dropdown(description='Show:', options=('Industrials', 'Consumer Cyclical', 'Basi…"
      ]
     },
     "metadata": {},
     "output_type": "display_data"
    }
   ],
   "source": [
    "tinkoff = pd.read_csv('stocks down.csv')\n",
    "var_list = list(tinkoff['sector'].unique())\n",
    "origin_sector = widgets.Dropdown(\n",
    "    options=var_list,\n",
    "    value='Industrials',\n",
    "    description='Show:',\n",
    ")\n",
    "\n",
    "origin_subsector = widgets.Dropdown(\n",
    "    options=list(tinkoff['subsector'].unique()),\n",
    "    value='Biotechnology',\n",
    "    description='Show:',\n",
    ")\n",
    "\n",
    "sector = 'Industrials'\n",
    "t_tmp = tinkoff[tinkoff.sector == sector]\n",
    "median_drop = round(t_tmp['up'].mean()*100,2)\n",
    "trace1 = go.Scatter(x=t_tmp[\"debt/ebitda\"].tolist(), y=t_tmp[\"debt/cash\"].tolist(),\n",
    "                    mode='markers',text=t_tmp['text'],marker_size=t_tmp['size'],\n",
    "                    marker_color=t_tmp['color'])\n",
    "g = go.FigureWidget(data=[trace1],\n",
    "                    layout=go.Layout(\n",
    "                        title=dict(\n",
    "                            text='Статистика по Industrials. Среднее падение {}%'.format(median_drop)\n",
    "                        ),\n",
    "                        xaxis_title = 'debt/ebitda',\n",
    "                        yaxis_title = 'debt/cash',\n",
    "                        width = 1000,\n",
    "                        height = 800,\n",
    "                    ))\n",
    "def response(change):\n",
    "    t_tmp = tinkoff[tinkoff.sector == change['new']]\n",
    "    median_drop = round(t_tmp['up'].mean()*100,2)\n",
    "    with g.batch_update():\n",
    "        g.data[0]['x']=t_tmp[\"debt/ebitda\"].tolist()\n",
    "        g.data[0]['y']=t_tmp[\"debt/cash\"].tolist()\n",
    "        g.layout.xaxis.title = 'debt/ebitda'\n",
    "        g.layout.yaxis.title = 'debt/cash'\n",
    "        g.layout.title = dict(\n",
    "                            text='Статистика по {}. Среднее падение {}%'.format(change['new'],median_drop))\n",
    "    \n",
    "\n",
    "origin_sector.observe(response, names=\"value\")\n",
    "container = widgets.HBox([origin_sector])\n",
    "widgets.VBox([container,\n",
    "              g])"
   ]
  },
  {
   "cell_type": "code",
   "execution_count": null,
   "metadata": {},
   "outputs": [],
   "source": []
  }
 ],
 "metadata": {
  "kernelspec": {
   "display_name": "Python 3",
   "language": "python",
   "name": "python3"
  },
  "language_info": {
   "codemirror_mode": {
    "name": "ipython",
    "version": 3
   },
   "file_extension": ".py",
   "mimetype": "text/x-python",
   "name": "python",
   "nbconvert_exporter": "python",
   "pygments_lexer": "ipython3",
   "version": "3.7.0"
  }
 },
 "nbformat": 4,
 "nbformat_minor": 2
}
